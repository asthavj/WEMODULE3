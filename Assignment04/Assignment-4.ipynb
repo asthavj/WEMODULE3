{
  "nbformat": 4,
  "nbformat_minor": 0,
  "metadata": {
    "colab": {
      "provenance": []
    },
    "kernelspec": {
      "name": "python3",
      "display_name": "Python 3"
    },
    "language_info": {
      "name": "python"
    }
  },
  "cells": [
    {
      "cell_type": "code",
      "source": [
        "import nltk\n",
        "nltk.download('punkt')\n"
      ],
      "metadata": {
        "colab": {
          "base_uri": "https://localhost:8080/"
        },
        "id": "JgAfH86zKc5e",
        "outputId": "9265d111-4a51-4ab2-ba14-3c319add71ba"
      },
      "execution_count": 7,
      "outputs": [
        {
          "output_type": "stream",
          "name": "stderr",
          "text": [
            "[nltk_data] Downloading package punkt to /root/nltk_data...\n",
            "[nltk_data]   Unzipping tokenizers/punkt.zip.\n"
          ]
        },
        {
          "output_type": "execute_result",
          "data": {
            "text/plain": [
              "True"
            ]
          },
          "metadata": {},
          "execution_count": 7
        }
      ]
    },
    {
      "cell_type": "code",
      "execution_count": 8,
      "metadata": {
        "id": "xs9NE_SgsQti"
      },
      "outputs": [],
      "source": [
        "def read_file(filename):\n",
        "    with open(filename, 'r', encoding='utf-8') as file:\n",
        "        text = file.read()\n",
        "    return text\n"
      ]
    },
    {
      "cell_type": "code",
      "source": [
        "import nltk\n",
        "# Uncomment the line below and run it if you haven't downloaded the 'punkt' resource yet\n",
        "# nltk.download('punkt')\n",
        "\n",
        "def build_markov_chain(text, chain_length):\n",
        "    words = nltk.word_tokenize(text)\n",
        "    chain = {}\n",
        "    for i in range(len(words) - chain_length):\n",
        "        state = tuple(words[i:i + chain_length])\n",
        "        next_word = words[i + chain_length]\n",
        "        if state in chain:\n",
        "            chain[state].append(next_word)\n",
        "        else:\n",
        "            chain[state] = [next_word]\n",
        "    return chain\n"
      ],
      "metadata": {
        "id": "6Rs_GWWIsUGl"
      },
      "execution_count": 9,
      "outputs": []
    },
    {
      "cell_type": "code",
      "source": [
        "import random\n",
        "\n",
        "def generate(text, start_words, chain_length, num_generated):\n",
        "    markov_chain = build_markov_chain(text, chain_length)\n",
        "\n",
        "    sentence = start_words.copy()\n",
        "    current_state = tuple(sentence)\n",
        "\n",
        "    while len(sentence) < num_generated:\n",
        "        if current_state not in markov_chain:\n",
        "            break\n",
        "        next_word = random.choice(markov_chain[current_state])\n",
        "        sentence.append(next_word)\n",
        "        current_state = tuple(sentence[-chain_length:])\n",
        "\n",
        "    return ' '.join(sentence)\n",
        "\n",
        "\n",
        "\n",
        "\n",
        "\n",
        "\n"
      ],
      "metadata": {
        "id": "LcjkGivYseAx"
      },
      "execution_count": 24,
      "outputs": []
    },
    {
      "cell_type": "code",
      "source": [
        "# Read text from file\n",
        "filename = 'sample.txt'  # Replace 'sample.txt' with your file name\n",
        "text = read_file(filename)\n",
        "\n",
        "# Define parameters and generate text\n",
        "start_words = ['The', 'quick']  # Must be exactly as long as chain_length\n",
        "chain_length = 2\n",
        "num_generated = 20\n",
        "\n",
        "generated_sentence = generate(text, start_words, chain_length, num_generated)\n",
        "print(generated_sentence)\n"
      ],
      "metadata": {
        "colab": {
          "base_uri": "https://localhost:8080/"
        },
        "id": "Om8p-lNBsrty",
        "outputId": "aaf9db84-76df-46a9-d060-51b311ab73b6"
      },
      "execution_count": 25,
      "outputs": [
        {
          "output_type": "stream",
          "name": "stdout",
          "text": [
            "The quick brown fox jumps over the lazy dog . Python is a high-level , interpreted programming language . Deep\n"
          ]
        }
      ]
    },
    {
      "cell_type": "code",
      "source": [
        "filename = 'sample.txt'  # Replace 'sample.txt' with your file name\n",
        "text = read_file(filename)\n",
        "\n",
        "# Define parameters and generate text\n",
        "start_words = ['Machine', 'learning']  # Must be exactly as long as chain_length\n",
        "chain_length = 2\n",
        "num_generated = 20\n",
        "\n",
        "generated_sentence = generate(text, start_words, chain_length, num_generated)\n",
        "print(generated_sentence)"
      ],
      "metadata": {
        "colab": {
          "base_uri": "https://localhost:8080/"
        },
        "id": "oirrWTmjIdv7",
        "outputId": "c73b21af-6f3b-4cb9-8606-7616d7de552b"
      },
      "execution_count": 26,
      "outputs": [
        {
          "output_type": "stream",
          "name": "stdout",
          "text": [
            "Machine learning algorithms can make predictions and learn patterns from data . Natural language processing enables computers to understand and\n"
          ]
        }
      ]
    },
    {
      "cell_type": "code",
      "source": [],
      "metadata": {
        "id": "7XGWOXXAQ_zf"
      },
      "execution_count": null,
      "outputs": []
    }
  ]
}