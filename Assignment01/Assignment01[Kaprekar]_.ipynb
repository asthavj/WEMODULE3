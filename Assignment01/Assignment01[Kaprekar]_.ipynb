{
  "nbformat": 4,
  "nbformat_minor": 0,
  "metadata": {
    "colab": {
      "provenance": []
    },
    "kernelspec": {
      "name": "python3",
      "display_name": "Python 3"
    },
    "language_info": {
      "name": "python"
    }
  },
  "cells": [
    {
      "cell_type": "code",
      "execution_count": 1,
      "metadata": {
        "id": "gyQouvjyVPY4"
      },
      "outputs": [],
      "source": [
        "def num_to_digits(n: int) -> list[int]:\n",
        "    digits = []\n",
        "    while n > 0:\n",
        "        digits.insert(0, n % 10)\n",
        "        n //= 10\n",
        "    #for ch in str(n):\n",
        "    #   digits.append(int(ch))\n",
        "    return digits"
      ]
    },
    {
      "cell_type": "code",
      "source": [
        "def digits_to_num(ds: list[int]) -> int:\n",
        "    if len(ds) == 1:\n",
        "        return ds[0]\n",
        "    return 10 * digits_to_num(ds[:-1]) + ds[-1]"
      ],
      "metadata": {
        "id": "rN-NbMvJVgul"
      },
      "execution_count": 2,
      "outputs": []
    },
    {
      "cell_type": "code",
      "source": [
        "def largest(n: int) -> int:\n",
        "    return digits_to_num(sorted(num_to_digits(n), reverse=True))"
      ],
      "metadata": {
        "id": "6fuKwEMKVjrk"
      },
      "execution_count": 3,
      "outputs": []
    },
    {
      "cell_type": "code",
      "source": [
        "largest(6784)"
      ],
      "metadata": {
        "colab": {
          "base_uri": "https://localhost:8080/"
        },
        "id": "8lOJCy3KVlt_",
        "outputId": "f2f602ff-9371-4bf0-b589-1e15ab3a8ca0"
      },
      "execution_count": 4,
      "outputs": [
        {
          "output_type": "execute_result",
          "data": {
            "text/plain": [
              "8764"
            ]
          },
          "metadata": {},
          "execution_count": 4
        }
      ]
    },
    {
      "cell_type": "code",
      "source": [
        "def smallest(n: int) -> int:\n",
        "    return digits_to_num(sorted(num_to_digits(n)))"
      ],
      "metadata": {
        "id": "cXV_9O8-VnwH"
      },
      "execution_count": 5,
      "outputs": []
    },
    {
      "cell_type": "code",
      "source": [
        "smallest(6784)"
      ],
      "metadata": {
        "colab": {
          "base_uri": "https://localhost:8080/"
        },
        "id": "WghsrzP_Vqey",
        "outputId": "6b83b814-609c-4fb1-83d0-134d35297601"
      },
      "execution_count": 6,
      "outputs": [
        {
          "output_type": "execute_result",
          "data": {
            "text/plain": [
              "4678"
            ]
          },
          "metadata": {},
          "execution_count": 6
        }
      ]
    },
    {
      "cell_type": "code",
      "source": [
        "def kaprekar_transform(n: int) -> int:\n",
        "    return largest(n) - smallest(n)"
      ],
      "metadata": {
        "id": "t34DvrGnVsqV"
      },
      "execution_count": 7,
      "outputs": []
    },
    {
      "cell_type": "code",
      "source": [
        "kaprekar_transform(6784)"
      ],
      "metadata": {
        "colab": {
          "base_uri": "https://localhost:8080/"
        },
        "id": "FCYSFPTBVuxC",
        "outputId": "e36efb22-c8c2-4932-f8c9-8dfa815f7354"
      },
      "execution_count": 8,
      "outputs": [
        {
          "output_type": "execute_result",
          "data": {
            "text/plain": [
              "4086"
            ]
          },
          "metadata": {},
          "execution_count": 8
        }
      ]
    },
    {
      "cell_type": "code",
      "source": [],
      "metadata": {
        "id": "JvT-9BOpVxVj"
      },
      "execution_count": 9,
      "outputs": []
    },
    {
      "cell_type": "code",
      "source": [
        "def kaprekar_sequenceB(n: int) -> list[int]:\n",
        "    seq = [n]\n",
        "    n = kaprekar_transform(n)\n",
        "    while n not in seq:\n",
        "        seq.append(n)\n",
        "        n = kaprekar_transform(n)\n",
        "    return seq"
      ],
      "metadata": {
        "id": "inzZnfsMV02E"
      },
      "execution_count": 11,
      "outputs": []
    },
    {
      "cell_type": "code",
      "source": [
        "kaprekar_sequenceB(6784)"
      ],
      "metadata": {
        "colab": {
          "base_uri": "https://localhost:8080/"
        },
        "id": "Tu_MaYDmV9v9",
        "outputId": "d2bb37f2-d85a-45df-9a42-494a7de13803"
      },
      "execution_count": 14,
      "outputs": [
        {
          "output_type": "execute_result",
          "data": {
            "text/plain": [
              "[6784, 4086, 8172, 7443, 3996, 6264, 4176, 6174]"
            ]
          },
          "metadata": {},
          "execution_count": 14
        }
      ]
    },
    {
      "cell_type": "code",
      "source": [],
      "metadata": {
        "id": "qroE20nPWAYp"
      },
      "execution_count": null,
      "outputs": []
    }
  ]
}