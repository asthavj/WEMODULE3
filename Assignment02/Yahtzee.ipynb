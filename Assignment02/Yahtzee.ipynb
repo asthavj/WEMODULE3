{
  "nbformat": 4,
  "nbformat_minor": 0,
  "metadata": {
    "colab": {
      "provenance": []
    },
    "kernelspec": {
      "name": "python3",
      "display_name": "Python 3"
    },
    "language_info": {
      "name": "python"
    }
  },
  "cells": [
    {
      "cell_type": "code",
      "execution_count": null,
      "metadata": {
        "id": "2upj7XFiheWy"
      },
      "outputs": [],
      "source": [
        "import random\n",
        "\n",
        "def roll_dice():\n",
        "    \"\"\"\n",
        "    Simulates rolling five dice and returns the result as a list of numbers.\n",
        "    \"\"\"\n",
        "    return [random.randint(1, 6) for _ in range(5)]"
      ]
    },
    {
      "cell_type": "code",
      "source": [
        "def calculate_score(dice_values, category):\n",
        "    \"\"\"\n",
        "    Calculates and returns the score for a given category based on the dice values.\n",
        "    \"\"\"\n",
        "    dice_counts = {num: dice_values.count(num) for num in set(dice_values)}\n",
        "\n",
        "    if category == \"Ones\":\n",
        "        return dice_counts.get(1, 0) * 1\n",
        "    elif category == \"Twos\":\n",
        "        return dice_counts.get(2, 0) * 2\n",
        "    elif category == \"Threes\":\n",
        "        return dice_counts.get(3, 0) * 3\n",
        "    elif category == \"Fours\":\n",
        "        return dice_counts.get(4, 0) * 4\n",
        "    elif category == \"Fives\":\n",
        "        return dice_counts.get(5, 0) * 5\n",
        "    elif category == \"Sixes\":\n",
        "        return dice_counts.get(6, 0) * 6\n",
        "    elif category == \"Three of a Kind\":\n",
        "        if max(dice_counts.values()) >= 3:\n",
        "            return sum(dice_values)\n",
        "        else:\n",
        "            return 0\n",
        "    # Add more category calculations here\n",
        "    else:\n",
        "        return 0  # Invalid category\n"
      ],
      "metadata": {
        "id": "ZMWMqgpmal6C"
      },
      "execution_count": 2,
      "outputs": []
    },
    {
      "cell_type": "code",
      "source": [
        "\n",
        "def take_turn(player_name):\n",
        "    \"\"\"\n",
        "    Manages a player's turn by rolling dice, choosing categories, and updating the score.\n",
        "    \"\"\"\n",
        "    print(f\"\\n{player_name}'s turn:\")\n",
        "    dice_values = roll_dice()\n",
        "    rolls_left = 2  # Three rolls total, so 2 rolls left after the first roll\n",
        "\n",
        "    # Display initial dice values\n",
        "    print(\"Initial dice values:\", dice_values)\n",
        "\n",
        "    while rolls_left > 0:\n",
        "        display_dice(dice_values)\n",
        "        rolls_left -= 1\n",
        "\n",
        "        if rolls_left > 0:\n",
        "            reroll = input(\"Do you want to reroll any dice? (y/n): \")\n",
        "            if reroll.lower() == 'y':\n",
        "                reroll_dice = input(\"Enter the indexes of dice to reroll (e.g., 1 3 5), or 'all' for all dice: \")\n",
        "                if reroll_dice.lower() == 'all':\n",
        "                    dice_values = roll_dice()\n",
        "                else:\n",
        "                    dice_to_reroll = [int(index) - 1 for index in reroll_dice.split() if int(index) in range(1, 6)]\n",
        "                    if dice_to_reroll:\n",
        "                        new_dice = roll_dice()\n",
        "                        for index in dice_to_reroll:\n",
        "                            dice_values[index] = new_dice[index]\n",
        "                    else:\n",
        "                        print(\"No valid dice indexes provided.\")\n",
        "                # Test case: Ensure dice values are within 1 to 6\n",
        "                dice_values = [min(max(val, 1), 6) for val in dice_values]\n",
        "\n",
        "    # Choose a category\n",
        "    category = input(\"Choose a category (e.g., Ones, Twos, Threes, ...): \")\n",
        "\n",
        "    # Test case: Ensure category input is valid\n",
        "    while category not in [\"Ones\", \"Twos\", \"Threes\", \"Fours\", \"Fives\", \"Sixes\", \"Three of a Kind\", \"Four of a Kind\", \"Full House\", \"Small Straight\", \"Large Straight\", \"Chance\", \"Yahtzee\"]:\n",
        "        print(\"Invalid category! Choose a valid category.\")\n",
        "        category = input(\"Choose a category (e.g., Ones, Twos, Threes, ...): \")\n",
        "\n",
        "    # Calculate and display the score\n",
        "    score = calculate_score(dice_values, category)\n",
        "    print(f\"Score for {category}: {score}\")\n",
        "\n",
        "\n"
      ],
      "metadata": {
        "id": "rwbk3CTlhnBJ"
      },
      "execution_count": 5,
      "outputs": []
    },
    {
      "cell_type": "code",
      "source": [
        "def initialize_game():\n",
        "    \"\"\"\n",
        "    Sets up the game environment, initializes player data, and prepares the scorecard.\n",
        "    \"\"\"\n",
        "    num_players = int(input(\"Enter the number of players: \"))\n",
        "    players = [input(f\"Enter name for Player {i + 1}: \") for i in range(num_players)]\n",
        "    scorecard = {category: 0 for category in [\"Ones\", \"Twos\", \"Threes\", \"Fours\", \"Fives\", \"Sixes\", \"Three of a Kind\", \"Four of a Kind\", \"Full House\", \"Small Straight\", \"Large Straight\", \"Chance\", \"Yahtzee\"]}\n",
        "    total_rounds = 13\n",
        "\n",
        "    return players, scorecard, total_rounds\n"
      ],
      "metadata": {
        "id": "pzxHR95_h32m"
      },
      "execution_count": 4,
      "outputs": []
    },
    {
      "cell_type": "code",
      "source": [
        "def display_dice(dice_values):\n",
        "    \"\"\"\n",
        "    Displays the current dice values for the player.\n",
        "    \"\"\"\n",
        "    print(\"Dice values:\", dice_values)\n",
        "\n",
        "def display_scorecard(scorecard):\n",
        "    \"\"\"\n",
        "    Displays the current scorecard with scores for each category.\n",
        "    \"\"\"\n",
        "    print(\"Scorecard:\")\n",
        "    for category, score in scorecard.items():\n",
        "        print(f\"{category}: {score}\")\n"
      ],
      "metadata": {
        "id": "bem21EAfiO3a"
      },
      "execution_count": 6,
      "outputs": []
    },
    {
      "cell_type": "code",
      "source": [
        "def check_game_end(round_number, total_rounds, scorecard):\n",
        "    \"\"\"\n",
        "    Checks if the game has ended based on completion of rounds or filling all categories.\n",
        "    \"\"\"\n",
        "    if round_number >= total_rounds:\n",
        "        return True\n",
        "    if all(score != 0 for score in scorecard.values()):\n",
        "        return True\n",
        "    return False\n"
      ],
      "metadata": {
        "id": "3M97H4Q2iXov"
      },
      "execution_count": 7,
      "outputs": []
    },
    {
      "cell_type": "code",
      "source": [
        "def play_yahtzee():\n",
        "    \"\"\"\n",
        "    Starts the Yahtzee game and manages the game flow.\n",
        "    \"\"\"\n",
        "    # Initialize the game\n",
        "    players, scorecard, total_rounds = initialize_game()\n",
        "    round_number = 0\n",
        "\n",
        "    # Main game loop\n",
        "    while not check_game_end(round_number, total_rounds, scorecard):\n",
        "        current_player = players[round_number % len(players)]\n",
        "        take_turn(current_player)\n",
        "        round_number += 1\n",
        "\n",
        "    print(\"Game Over!\")\n",
        "    display_scorecard(scorecard)\n",
        "\n",
        "# Run the game\n",
        "play_yahtzee()"
      ],
      "metadata": {
        "colab": {
          "base_uri": "https://localhost:8080/"
        },
        "id": "e6pkFJlhiZfa",
        "outputId": "66742878-0e8f-4bbe-db80-2e76977e8816"
      },
      "execution_count": null,
      "outputs": [
        {
          "name": "stdout",
          "output_type": "stream",
          "text": [
            "Enter the number of players: 1\n",
            "Enter name for Player 1: Astha\n",
            "\n",
            "Astha's turn:\n",
            "Initial dice values: [4, 5, 2, 5, 6]\n",
            "Dice values: [4, 5, 2, 5, 6]\n",
            "Do you want to reroll any dice? (y/n): y\n",
            "Enter the indexes of dice to reroll (e.g., 1 3 5), or 'all' for all dice: 1 2\n",
            "Dice values: [6, 5, 2, 5, 6]\n",
            "Choose a category (e.g., Ones, Twos, Threes, ...): Sixes\n",
            "Score for Sixes: 12\n",
            "\n",
            "Astha's turn:\n",
            "Initial dice values: [4, 2, 1, 5, 2]\n",
            "Dice values: [4, 2, 1, 5, 2]\n",
            "Do you want to reroll any dice? (y/n): y\n"
          ]
        }
      ]
    },
    {
      "cell_type": "code",
      "source": [],
      "metadata": {
        "id": "LIdIu5ZqieuA"
      },
      "execution_count": null,
      "outputs": []
    }
  ]
}